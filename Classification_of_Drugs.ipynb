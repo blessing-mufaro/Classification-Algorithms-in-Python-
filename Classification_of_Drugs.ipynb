{
  "nbformat": 4,
  "nbformat_minor": 0,
  "metadata": {
    "colab": {
      "name": "Classification of Drugs.ipynb",
      "provenance": [],
      "collapsed_sections": [
        "wKYWujaWAEM_",
        "j5q0wnpQFhyO",
        "S-ES4I8UFtwM",
        "FWLlh0D7F23t"
      ],
      "toc_visible": true,
      "authorship_tag": "ABX9TyPYo/y99xQSu5Vuxd7kNspq",
      "include_colab_link": true
    },
    "kernelspec": {
      "name": "python3",
      "display_name": "Python 3"
    },
    "language_info": {
      "name": "python"
    }
  },
  "cells": [
    {
      "cell_type": "markdown",
      "metadata": {
        "id": "view-in-github",
        "colab_type": "text"
      },
      "source": [
        "<a href=\"https://colab.research.google.com/github/blessing-mufaro/Classification-Algorithms-in-Python-/blob/main/Classification_of_Drugs.ipynb\" target=\"_parent\"><img src=\"https://colab.research.google.com/assets/colab-badge.svg\" alt=\"Open In Colab\"/></a>"
      ]
    },
    {
      "cell_type": "code",
      "metadata": {
        "id": "IHTNHZDY5cfv"
      },
      "source": [
        "import numpy as np\n",
        "import pandas as pd\n"
      ],
      "execution_count": null,
      "outputs": []
    },
    {
      "cell_type": "code",
      "metadata": {
        "id": "05ziuemA7irl"
      },
      "source": [
        "dataset = pd.read_csv('/content/drug200.csv')\n",
        "print(dataset)"
      ],
      "execution_count": null,
      "outputs": []
    },
    {
      "cell_type": "code",
      "metadata": {
        "id": "bLnewiHP-T-P"
      },
      "source": [
        "dataset['Drug'] = dataset['Drug'].astype('category')\n",
        "dataset['Encoded_Names'] = dataset['Drug'].cat.codes\n",
        "print(dataset)"
      ],
      "execution_count": null,
      "outputs": []
    },
    {
      "cell_type": "code",
      "metadata": {
        "id": "OUtOkVRh8smZ"
      },
      "source": [
        "X = dataset.iloc[:,0:4].values\n",
        "Y = dataset.iloc[:-1].values"
      ],
      "execution_count": null,
      "outputs": []
    },
    {
      "cell_type": "code",
      "metadata": {
        "colab": {
          "base_uri": "https://localhost:8080/"
        },
        "id": "6SybWSJl8_lr",
        "outputId": "98f6ab2a-031c-461d-bc44-efb90e52345b"
      },
      "source": [
        "print(X.shape, Y.shape)"
      ],
      "execution_count": null,
      "outputs": [
        {
          "output_type": "stream",
          "text": [
            "(200, 4) (199, 6)\n"
          ],
          "name": "stdout"
        }
      ]
    },
    {
      "cell_type": "code",
      "metadata": {
        "id": "S_UkjlAv9LeW"
      },
      "source": [
        "from sklearn.model_selection import train_test_split\n",
        "X_train, X_test, Y_train, Y_test = train_test_split(X, Y, test_size = 0.2)\n",
        "print(X_train.shape, X_test.shape)"
      ],
      "execution_count": null,
      "outputs": []
    },
    {
      "cell_type": "markdown",
      "metadata": {
        "id": "wKYWujaWAEM_"
      },
      "source": [
        "# Logistic Regression\n"
      ]
    },
    {
      "cell_type": "code",
      "metadata": {
        "id": "b7ZConE09LP1"
      },
      "source": [
        "\n",
        "from sklearn.linear_model import train_test_split\n",
        "\n",
        "logReg = LogisticRegression()\n",
        "logReg.fit(X_train, Y_train)\n",
        "\n",
        "Y_pred = logReg.predict(X_test)\n",
        "print(Y_test, Y_pred)"
      ],
      "execution_count": null,
      "outputs": []
    },
    {
      "cell_type": "code",
      "metadata": {
        "id": "hAfixBAq9K70"
      },
      "source": [
        "from sklearn.metrics import confusion_matrix, accuracy_score, recall_score\n",
        "\n",
        "print(\"Confusion Matrxi:\\n\", confusion_matrix(Y_test, Y_pred))\n",
        "print(\"Accuracy:\\n\", accuracy_score(Y_test,Y_pred))\n",
        "print(\"Precision:\\n\", precision_score(Y_test,Y_pred, average=None))\n",
        "print(\"Recall:\\n\", accuracy_score(Y_test,Y_pred, average=None))"
      ],
      "execution_count": null,
      "outputs": []
    },
    {
      "cell_type": "markdown",
      "metadata": {
        "id": "j5q0wnpQFhyO"
      },
      "source": [
        "# KNN Classifier\n"
      ]
    },
    {
      "cell_type": "code",
      "metadata": {
        "id": "Ad_VpS2MFq8I"
      },
      "source": [
        "from sklearn.neighbors import KNeighborsClassifier\n",
        "knn = KNeighborsClassifier()\n",
        "knn.fit(X_train, Y_train)\n",
        "\n",
        "y_pred_knn = knn.predict(X_test)\n",
        "\n",
        "print(\"Confusion Matrix:\\n\",confusion_matrix(Y_test, Y_pred_knn) )\n",
        "print(\"Accuracy:\\n\", accuracy_score(Y_test,Y_pred_knn))"
      ],
      "execution_count": null,
      "outputs": []
    },
    {
      "cell_type": "markdown",
      "metadata": {
        "id": "S-ES4I8UFtwM"
      },
      "source": [
        "# Decision Tree"
      ]
    },
    {
      "cell_type": "code",
      "metadata": {
        "id": "KZYUl5FdFzUu"
      },
      "source": [
        "from sklearn.tree import DecisionTreeClassifier\n",
        "\n",
        "dtc = DecisionTreeClassifier()\n",
        "dtc.fit(X_train, Y_train)\n",
        "\n",
        "Y_pred_dtc = dtc.predict(X_test)\n",
        "\n",
        "print(\"Confusion Matrix:\\n\", confusion_matrix(Y_test, Y_pred_dtc))\n",
        "print(\"Accuracy:\\n\", accuracy_score(Y_test,Y_pred_dtc))\n"
      ],
      "execution_count": null,
      "outputs": []
    },
    {
      "cell_type": "markdown",
      "metadata": {
        "id": "FWLlh0D7F23t"
      },
      "source": [
        "# Random Forest"
      ]
    },
    {
      "cell_type": "code",
      "metadata": {
        "id": "5h8zUxIuF7EZ"
      },
      "source": [
        "from sklearn.ensemble import RandomForestClassifier\n",
        "\n",
        "rfc = RandomForestClassifier()\n",
        "rfc.fit(X_train, Y_train)\n",
        "\n",
        "Y_pred_rfc = rfc.predict(X_test)\n",
        "\n",
        "print(\"Confusion Matrix:\\n\", confusion_matrix(Y_test, Y_pred_rfc))\n",
        "print(\"Accuracy:\\n\", accuracy_score(Y_test,Y_pred_rfc))\n",
        "\n"
      ],
      "execution_count": null,
      "outputs": []
    }
  ]
}